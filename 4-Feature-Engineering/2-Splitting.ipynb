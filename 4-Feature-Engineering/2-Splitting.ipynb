{
 "cells": [
  {
   "cell_type": "code",
   "execution_count": null,
   "metadata": {},
   "outputs": [],
   "source": [
    "import pandas as pd \n",
    " \n",
    "Developer = pd.DataFrame({'Name': ['Isyana Saraswati', 'Nicholas Saputra', 'Raisa Andriana'], \n",
    "        'Age':[30, 36, 32]}) \n",
    "print(\"Machine Learning Developer di Indonesia :\\n\", Developer) \n",
    " \n",
    "Developer[['First','Last']] = Developer.Name.str.split(expand=True) \n",
    "print(\"\\n Split kolom 'Name', lalu tambahkan kedua kolom : \\n\", Developer)"
   ]
  }
 ],
 "metadata": {
  "language_info": {
   "name": "python"
  },
  "orig_nbformat": 4
 },
 "nbformat": 4,
 "nbformat_minor": 2
}
